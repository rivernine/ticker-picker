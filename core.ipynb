{
 "cells": [
  {
   "cell_type": "markdown",
   "metadata": {},
   "source": [
    "# stocks 정보 최신화"
   ]
  },
  {
   "cell_type": "code",
   "execution_count": null,
   "metadata": {},
   "outputs": [],
   "source": [
    "# pykrx to mysql\n",
    "from sqlalchemy import create_engine\n",
    "import pymysql\n",
    "import pandas as pd\n",
    "from pykrx import stock\n",
    "import time\n",
    "from openpyxl import load_workbook\n",
    "from datetime import datetime, timedelta\n",
    "\n",
    "ADDR = '192.168.56.100'\n",
    "PORT = '3306'\n",
    "DB = 'INDEX_DUCK'\n",
    "ID = 'root'\n",
    "PW = 'test'\n",
    "\n",
    "ticker_list = []\n",
    "\n",
    "try:  \n",
    "  for ticker in stock.get_market_ticker_list(market='KOSPI'):\n",
    "    ticker_list.append(ticker)\n",
    "  time.sleep(1)\n",
    "  for ticker in stock.get_market_ticker_list(market='KOSDAQ'):\n",
    "    ticker_list.append(ticker)\n",
    "\n",
    "  start = \"20211001\"\n",
    "  end = str(datetime.now().date()).replace('-', '')\n",
    "\n",
    "  for ticker in ticker_list:\n",
    "    try:\n",
    "      name = stock.get_market_ticker_name(ticker)\n",
    "      time.sleep(1)\n",
    "      df = stock.get_market_ohlcv_by_date(start, end, ticker).drop(['시가', '고가', '저가'], axis=1).rename(columns={'종가':'close', '거래량':'volume'})\n",
    "      time.sleep(1)\n",
    "      df.index.names = ['date']\n",
    "      df_volume_netbuy = stock.get_market_trading_volume_by_date(start, end, ticker, on=\"순매수\").rename(columns={'기관합계':'insVol', '기타법인':'etcVol', '개인':'indVol', '외국인합계':'forVol'}).drop(['전체'], axis=1)\n",
    "      time.sleep(1)\n",
    "      df_amount_netbuy = stock.get_market_trading_value_by_date(start, end, ticker, on=\"순매수\").rename(columns={'기관합계':'insAmt', '기타법인':'etcAmt', '개인':'indAmt', '외국인합계':'forAmt'}).drop(['전체'], axis=1)\n",
    "      time.sleep(1)\n",
    "      df_total = pd.concat([df, df_volume_netbuy, df_amount_netbuy], axis = 1, join='inner')\n",
    "      df_total.insert(0, 'ticker', str(ticker))\n",
    "      df_total.insert(1, 'name', name)\n",
    "\n",
    "      db_connection = create_engine('mysql+pymysql://'+ ID +':'+ PW +'@'+ ADDR +':'+ PORT +'/'+ DB, encoding='utf-8')\n",
    "      conn = db_connection.connect()\n",
    "\n",
    "      df_total.to_sql(name='stocks', con=db_connection, if_exists='append', index=True, index_label=\"date\")\n",
    "\n",
    "      conn.close()\n",
    "    except Exception as e:\n",
    "      print('e:', ticker, e)\n",
    "      pass\n",
    "except Exception as ex:\n",
    "  print('ex: ', ticker, ex)\n",
    "  pass"
   ]
  },
  {
   "cell_type": "markdown",
   "metadata": {},
   "source": [
    "# 볼린저밴드 구하기"
   ]
  },
  {
   "cell_type": "code",
   "execution_count": 43,
   "metadata": {},
   "outputs": [
    {
     "name": "stdout",
     "output_type": "stream",
     "text": [
      "ex1 cannot convert float NaN to integer\n",
      "ex1 cannot convert float NaN to integer\n",
      "ex1 cannot convert float NaN to integer\n"
     ]
    }
   ],
   "source": [
    "import pandas as pd\n",
    "import pymysql\n",
    "from datetime import datetime, timedelta\n",
    "\n",
    "ADDR = '192.168.56.100'\n",
    "PORT = '3306'\n",
    "DB = 'INDEX_DUCK'\n",
    "ID = 'root'\n",
    "PW = 'test'\n",
    "\n",
    "db = pymysql.connect(host=ADDR, port=int(PORT), user=ID, passwd=PW, db=DB, charset='utf8')\n",
    "cursor = db.cursor()\n",
    "try:\n",
    "  getTickersSql = \"SELECT DISTINCT ticker FROM stocks\"\n",
    "  cursor.execute(getTickersSql)\n",
    "  tickers = list(cursor.fetchall())\n",
    "\n",
    "  for ticker in tickers:        \n",
    "    try:\n",
    "      getLast20Info = \"SELECT * FROM stocks WHERE ticker = '\" + ticker[0] + \"' ORDER BY date DESC limit 20\"\n",
    "      cursor.execute(getLast20Info)\n",
    "      last20InfoDf = pd.DataFrame(cursor.fetchall())\n",
    "      last20InfoDfClose = last20InfoDf.loc[:, 3]\n",
    "\n",
    "      avg = last20InfoDfClose.mean()\n",
    "      std = last20InfoDfClose.std()\n",
    "\n",
    "      tmpInfo = last20InfoDf.loc[0, [0, 1, 2, 3]]\n",
    "      hi = round(avg + std * 2)\n",
    "      me = round(avg)\n",
    "      lo = round(avg - std * 2)\n",
    "      insertBollSql = \"REPLACE INTO boll(date, ticker, name, close, low, medium, high) VALUES(%s, %s, %s, %s, %s, %s, %s)\"\n",
    "      cursor.execute(insertBollSql, (tmpInfo[0], tmpInfo[1], tmpInfo[2], tmpInfo[3], lo, me, hi))\n",
    "      db.commit()\n",
    "    except Exception as ex1:\n",
    "      print('ex1', ex1)\n",
    "      # print(tmpInfo[0], tmpInfo[1], tmpInfo[2], tmpInfo[3], hi, me, lo)\n",
    "      pass\n",
    "except Exception as ex2:\n",
    "  print('ex2', ex2)\n",
    "  pass\n",
    "\n",
    "db.close()"
   ]
  },
  {
   "cell_type": "code",
   "execution_count": 39,
   "metadata": {},
   "outputs": [
    {
     "name": "stdout",
     "output_type": "stream",
     "text": [
      "46623 43578 40532\n"
     ]
    },
    {
     "data": {
      "text/plain": [
       "0    2021-09-30\n",
       "1        240810\n",
       "2         원익IPS\n",
       "3         40050\n",
       "Name: 0, dtype: object"
      ]
     },
     "execution_count": 39,
     "metadata": {},
     "output_type": "execute_result"
    }
   ],
   "source": [
    "last20InfoDf.loc[:, [0, 1, 2, 3]]\n",
    "# last20InfoDf\n",
    "last20InfoDfClose = last20InfoDf.loc[:, 3]\n",
    "\n",
    "avg = last20InfoDfClose.mean()\n",
    "std = last20InfoDfClose.std()\n",
    "\n",
    "# print(type(avg))\n",
    "hi = round(avg + std * 2)\n",
    "mi = round(avg)\n",
    "lo = round(avg - std * 2)\n",
    "print(hi, mi, lo)\n",
    "last20InfoDf.loc[0, [0, 1, 2, 3]]"
   ]
  }
 ],
 "metadata": {
  "interpreter": {
   "hash": "d1ed2c177f09a363b757c672615c6cd8a847e1385f7898da6492f4ed00401a9c"
  },
  "kernelspec": {
   "display_name": "Python 3.9.6 64-bit",
   "name": "python3"
  },
  "language_info": {
   "codemirror_mode": {
    "name": "ipython",
    "version": 3
   },
   "file_extension": ".py",
   "mimetype": "text/x-python",
   "name": "python",
   "nbconvert_exporter": "python",
   "pygments_lexer": "ipython3",
   "version": "3.9.6"
  },
  "orig_nbformat": 4
 },
 "nbformat": 4,
 "nbformat_minor": 2
}
