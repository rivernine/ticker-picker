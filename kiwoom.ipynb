{
 "cells": [
  {
   "cell_type": "code",
   "execution_count": 1,
   "metadata": {},
   "outputs": [
    {
     "name": "stdout",
     "output_type": "stream",
     "text": [
      "1\n",
      "['8011076211']\n",
      "nexus94\n",
      "강재구\n",
      "0\n",
      "0\n"
     ]
    }
   ],
   "source": [
    "# 사용자 정보 가져오기\n",
    "from pykiwoom.kiwoom import *\n",
    "\n",
    "kiwoom = Kiwoom()\n",
    "kiwoom.CommConnect(block=True)\n",
    "\n",
    "account_num = kiwoom.GetLoginInfo(\"ACCOUNT_CNT\")        # 전체 계좌수\n",
    "accounts = kiwoom.GetLoginInfo(\"ACCNO\")                 # 전체 계좌 리스트\n",
    "user_id = kiwoom.GetLoginInfo(\"USER_ID\")                # 사용자 ID\n",
    "user_name = kiwoom.GetLoginInfo(\"USER_NAME\")            # 사용자명\n",
    "keyboard = kiwoom.GetLoginInfo(\"KEY_BSECGB\")            # 키보드보안 해지여부\n",
    "firewall = kiwoom.GetLoginInfo(\"FIREW_SECGB\")           # 방화벽 설정 여부\n",
    "\n",
    "print(account_num)\n",
    "print(accounts)\n",
    "print(user_id)\n",
    "print(user_name)\n",
    "print(keyboard)\n",
    "print(firewall)"
   ]
  },
  {
   "cell_type": "code",
   "execution_count": null,
   "metadata": {},
   "outputs": [],
   "source": [
    "# 종목 정보\n",
    "# kiwoom = Kiwoom()\n",
    "# kiwoom.CommConnect(block=True)\n",
    "\n",
    "kospi = kiwoom.GetCodeListByMarket('0')\n",
    "kosdaq = kiwoom.GetCodeListByMarket('10')\n",
    "etf = kiwoom.GetCodeListByMarket('8')\n",
    "\n",
    "print(len(kospi), kospi)\n",
    "print(len(kosdaq), kosdaq)\n",
    "print(len(etf), etf)"
   ]
  },
  {
   "cell_type": "code",
   "execution_count": 3,
   "metadata": {},
   "outputs": [
    {
     "name": "stdout",
     "output_type": "stream",
     "text": [
      "삼성전자\n"
     ]
    }
   ],
   "source": [
    "# 종목 명\n",
    "name = kiwoom.GetMasterCodeName(\"005930\")\n",
    "print(name)"
   ]
  },
  {
   "cell_type": "code",
   "execution_count": 5,
   "metadata": {},
   "outputs": [
    {
     "name": "stdout",
     "output_type": "stream",
     "text": [
      "연결완료\n"
     ]
    }
   ],
   "source": [
    "# 연결 상태 확인\n",
    "# kiwoom = Kiwoom()\n",
    "# kiwoom.CommConnect(block=True)\n",
    "\n",
    "state = kiwoom.GetConnectState()\n",
    "if state == 0:\n",
    "    print(\"미연결\")\n",
    "elif state == 1:\n",
    "    print(\"연결완료\")"
   ]
  },
  {
   "cell_type": "markdown",
   "metadata": {},
   "source": [
    "## SendOrder(\"사용자 구분 명\", \"화면번호\", \"계좌번호\", \"주문유형\", \"주식종목코드\", \"주문수량\", \"주문단가\", \"거래구분\", \"원주문번호\")\n",
    "\n",
    "- sRQName\t사용자가 임의로 지정할 수 있는 이름입니다. (예: \"삼성전자주문\")\n",
    "- sScreenNO\t화면번호로 \"0\"을 제외한 4자리의 문자열을 사용합니다. (예: \"1000\")\n",
    "- sAccNo\t계좌번호입니다. (예: \"8140977311\")\n",
    "- nOrderType\t주문유형입니다. (1: 매수, 2: 매도, 3: 매수취소, 4: 매도취소, 5: 매수정정, 6: 매도 정정)\n",
    "- sCode\t매매할 주식의 종목코드입니다.\n",
    "- nQty\t주문수량입니다.\n",
    "- nPrice\t주문단가입니다.\n",
    "- sHogaGb\t'00': 지정가, '03': 시장가\n",
    "- sOrgOrderNo\t원주문번호로 주문 정정시 사용합니다."
   ]
  },
  {
   "cell_type": "code",
   "execution_count": 9,
   "metadata": {},
   "outputs": [],
   "source": [
    "# 매수\n",
    "# kiwoom = Kiwoom()\n",
    "# kiwoom.CommConnect(block=True)\n",
    "\n",
    "# 주식계좌\n",
    "accounts = kiwoom.GetLoginInfo(\"ACCNO\")\n",
    "stock_account = accounts[0]\n",
    "\n",
    "# 삼성전자, 10주, 시장가주문 매수\n",
    "kiwoom.SendOrder(\"시장가매수\", \"0101\", stock_account, 1, \"005930\", 10, 0, \"03\", \"\")"
   ]
  },
  {
   "cell_type": "code",
   "execution_count": 10,
   "metadata": {},
   "outputs": [],
   "source": [
    "# 매도\n",
    "# kiwoom = Kiwoom()\n",
    "# kiwoom.CommConnect(block=True)\n",
    "\n",
    "# 주식계좌\n",
    "accounts = kiwoom.GetLoginInfo(\"ACCNO\")\n",
    "stock_account = accounts[0]\n",
    "\n",
    "# 삼성전자, 10주, 시장가주문 매도\n",
    "kiwoom.SendOrder(\"시장가매도\", \"0101\", stock_account, 2, \"005930\", 10, 0, \"03\", \"\")"
   ]
  },
  {
   "cell_type": "code",
   "execution_count": null,
   "metadata": {},
   "outputs": [],
   "source": [
    "# TR활용\n",
    "# kiwoom = Kiwoom()\n",
    "# kiwoom.CommConnect(block=True)\n",
    "\n",
    "df = kiwoom.block_request(\"opt10001\",\n",
    "                          종목코드=\"005930\",\n",
    "                          output=\"주식기본정보\",\n",
    "                          next=0)\n",
    "print(df)"
   ]
  },
  {
   "cell_type": "code",
   "execution_count": null,
   "metadata": {},
   "outputs": [],
   "source": [
    "# TR 요청 (연속조회)\n",
    "dfs = []\n",
    "df = kiwoom.block_request(\"opt10081\",\n",
    "                          종목코드=\"005930\",\n",
    "                          기준일자=\"20200424\",\n",
    "                          수정주가구분=1,\n",
    "                          output=\"주식일봉차트조회\",\n",
    "                          next=0)\n",
    "print(df.head())\n",
    "dfs.append(df)\n",
    "\n",
    "while kiwoom.tr_remained:\n",
    "    df = kiwoom.block_request(\"opt10081\",\n",
    "                              종목코드=\"005930\",\n",
    "                              기준일자=\"20200424\",\n",
    "                              수정주가구분=1,\n",
    "                              output=\"주식일봉차트조회\",\n",
    "                              next=2)\n",
    "    dfs.append(df)\n",
    "    time.sleep(1)"
   ]
  }
 ],
 "metadata": {
  "interpreter": {
   "hash": "c968b4081f8e9392c017ceade3e01ae64d66c3f9c92847f587ebc7e83dc00868"
  },
  "kernelspec": {
   "display_name": "Python 3.8.3 32-bit",
   "name": "python3"
  },
  "language_info": {
   "codemirror_mode": {
    "name": "ipython",
    "version": 3
   },
   "file_extension": ".py",
   "mimetype": "text/x-python",
   "name": "python",
   "nbconvert_exporter": "python",
   "pygments_lexer": "ipython3",
   "version": "3.8.3"
  },
  "orig_nbformat": 4
 },
 "nbformat": 4,
 "nbformat_minor": 2
}
